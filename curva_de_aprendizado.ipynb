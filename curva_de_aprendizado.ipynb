{
 "cells": [
  {
   "cell_type": "markdown",
   "id": "25c4d1f4",
   "metadata": {},
   "source": [
    "# Curva de aprendizado\n",
    "\n",
    "As curvas de aprendizado podem ser uma ótima ferramenta para avaliar o comportamento do modelo quando modificamos sua complexidade. Em um modelo de árvore de decisão a complexidade pode ser modificada quando alteramos a profundidade da árovre.\n",
    "\n",
    "Vamos utilizar uma base de dados de teste para treinar um modelo de árvore e ver o comportamento do modelo quando alteramos a sua profundidade.\n",
    "\n",
    "Além disso, a curva de aprendizado é uma técnica para verificar como o modelo se comporta com os dados de treino e teste. Ela é uma ótima ferramenta para verificar se o modelo apresenta **overfitting**. Em geral, caso o modelo tenha um ótimo desempenho nos dados de treino, mas um baixo desempenho nos dados de teste, é um indício de overfitting."
   ]
  },
  {
   "cell_type": "code",
   "execution_count": 1,
   "id": "a55d72fd",
   "metadata": {},
   "outputs": [],
   "source": [
    "import pandas as pd\n",
    "from sklearn.model_selection import train_test_split\n",
    "from sklearn.tree import DecisionTreeClassifier\n",
    "from sklearn import metrics\n",
    "import matplotlib.pyplot as plt"
   ]
  },
  {
   "cell_type": "code",
   "execution_count": 2,
   "id": "df8caba8",
   "metadata": {},
   "outputs": [],
   "source": [
    "path = '/home/diegords/Documentos/curva_de_aprendizado/data/hearing_test.csv'\n",
    "\n",
    "df = pd.read_csv(path)"
   ]
  },
  {
   "cell_type": "code",
   "execution_count": 3,
   "id": "4db220ce",
   "metadata": {},
   "outputs": [
    {
     "data": {
      "text/html": [
       "<div>\n",
       "<style scoped>\n",
       "    .dataframe tbody tr th:only-of-type {\n",
       "        vertical-align: middle;\n",
       "    }\n",
       "\n",
       "    .dataframe tbody tr th {\n",
       "        vertical-align: top;\n",
       "    }\n",
       "\n",
       "    .dataframe thead th {\n",
       "        text-align: right;\n",
       "    }\n",
       "</style>\n",
       "<table border=\"1\" class=\"dataframe\">\n",
       "  <thead>\n",
       "    <tr style=\"text-align: right;\">\n",
       "      <th></th>\n",
       "      <th>age</th>\n",
       "      <th>physical_score</th>\n",
       "      <th>test_result</th>\n",
       "    </tr>\n",
       "  </thead>\n",
       "  <tbody>\n",
       "    <tr>\n",
       "      <th>0</th>\n",
       "      <td>33.0</td>\n",
       "      <td>40.7</td>\n",
       "      <td>1</td>\n",
       "    </tr>\n",
       "    <tr>\n",
       "      <th>1</th>\n",
       "      <td>50.0</td>\n",
       "      <td>37.2</td>\n",
       "      <td>1</td>\n",
       "    </tr>\n",
       "    <tr>\n",
       "      <th>2</th>\n",
       "      <td>52.0</td>\n",
       "      <td>24.7</td>\n",
       "      <td>0</td>\n",
       "    </tr>\n",
       "    <tr>\n",
       "      <th>3</th>\n",
       "      <td>56.0</td>\n",
       "      <td>31.0</td>\n",
       "      <td>0</td>\n",
       "    </tr>\n",
       "    <tr>\n",
       "      <th>4</th>\n",
       "      <td>35.0</td>\n",
       "      <td>42.9</td>\n",
       "      <td>1</td>\n",
       "    </tr>\n",
       "  </tbody>\n",
       "</table>\n",
       "</div>"
      ],
      "text/plain": [
       "    age  physical_score  test_result\n",
       "0  33.0            40.7            1\n",
       "1  50.0            37.2            1\n",
       "2  52.0            24.7            0\n",
       "3  56.0            31.0            0\n",
       "4  35.0            42.9            1"
      ]
     },
     "execution_count": 3,
     "metadata": {},
     "output_type": "execute_result"
    }
   ],
   "source": [
    "df.head()"
   ]
  },
  {
   "cell_type": "code",
   "execution_count": 4,
   "id": "87bb8c12",
   "metadata": {},
   "outputs": [
    {
     "data": {
      "text/plain": [
       "5000"
      ]
     },
     "execution_count": 4,
     "metadata": {},
     "output_type": "execute_result"
    }
   ],
   "source": [
    "len(df)"
   ]
  },
  {
   "cell_type": "markdown",
   "id": "65170313",
   "metadata": {},
   "source": [
    "Dividindo os dados em treino e teste para podermos treinar o modelo"
   ]
  },
  {
   "cell_type": "code",
   "execution_count": 5,
   "id": "646fb2e4",
   "metadata": {},
   "outputs": [],
   "source": [
    "columns_of_df = df.columns\n",
    "\n",
    "x = df[[column for column in columns_of_df if column != 'test_result']]\n",
    "y = df['test_result']"
   ]
  },
  {
   "cell_type": "code",
   "execution_count": 6,
   "id": "76b5792b",
   "metadata": {},
   "outputs": [],
   "source": [
    "x_train, x_test, y_train, y_test = train_test_split(x, y, random_state=42, test_size=0.3)"
   ]
  },
  {
   "cell_type": "markdown",
   "id": "ca31b52b",
   "metadata": {},
   "source": [
    "# Curva de aprendizado\n",
    "\n",
    "A curva será gerada através do treinamento do modelo de árvore de decisão e vamos verificar qual o comportamento do modelo nos dados de treino e teste quando alteramos a profundidade da árvore, designada pela variável 'max_depth'."
   ]
  },
  {
   "cell_type": "code",
   "execution_count": 21,
   "id": "4ae17488",
   "metadata": {},
   "outputs": [
    {
     "data": {
      "image/png": "[encoded data removed]",
      "text/plain": [
       "<Figure size 600x400 with 1 Axes>"
      ]
     },
     "metadata": {
      "needs_background": "light"
     },
     "output_type": "display_data"
    }
   ],
   "source": [
    "score_train_list = []\n",
    "score_test_list = []\n",
    "profundidade = range(1, 11)\n",
    "\n",
    "for i in profundidade:\n",
    "\n",
    "    model = DecisionTreeClassifier(max_depth=i)\n",
    "    model.fit(x_train, y_train)\n",
    "\n",
    "    y_pred_train = model.predict(x_train)\n",
    "    y_pred_test = model.predict(x_test)\n",
    "\n",
    "    score_train = metrics.accuracy_score(y_pred_train, y_train)\n",
    "    score_test = metrics.accuracy_score(y_pred_test, y_test)\n",
    "\n",
    "    score_train_list.append(score_train)\n",
    "    score_test_list.append(score_test)\n",
    "\n",
    "plt.figure(dpi=100)\n",
    "plt.plot(profundidade, score_train_list, label='TRAIN')\n",
    "plt.plot(profundidade, score_test_list, label='TEST')\n",
    "plt.title('Curva de aprendizado')\n",
    "plt.xlabel('Profundidade')\n",
    "plt.ylabel('Acurácia')\n",
    "plt.xlim(1, 10)\n",
    "plt.legend()\n",
    "plt.savefig('/home/diegords/Documentos/curva_de_aprendizado/curva_de_aprendizado.png')\n",
    "plt.show()"
   ]
  },
  {
   "cell_type": "markdown",
   "id": "f1ccae0d",
   "metadata": {},
   "source": [
    "É notável que a medida que aumentamos a profundidade da árvore o desempenho nos dados de treino e teste seguem um padrão; entretanto, próximo ao valor de profundidade = 5, o conjunto de treinamento começa a aumentar considerávelmente sua acurácia e o conjunto de testes começa a perder acurácia. Neste ponto, temos um limite no qual podemos considerar a modificação da profundidade da árvore, pois, posterior a esse valor, temos claramente um sinal de overfitting."
   ]
  },
  {
   "cell_type": "code",
   "execution_count": null,
   "id": "dd9f11d9",
   "metadata": {},
   "outputs": [],
   "source": []
  }
 ],
 "metadata": {
  "kernelspec": {
   "display_name": "Python 3 (ipykernel)",
   "language": "python",
   "name": "python3"
  },
  "language_info": {
   "codemirror_mode": {
    "name": "ipython",
    "version": 3
   },
   "file_extension": ".py",
   "mimetype": "text/x-python",
   "name": "python",
   "nbconvert_exporter": "python",
   "pygments_lexer": "ipython3",
   "version": "3.9.7"
  }
 },
 "nbformat": 4,
 "nbformat_minor": 5
}
